{
 "cells": [
  {
   "cell_type": "markdown",
   "id": "a682a802",
   "metadata": {},
   "source": [
    "## 1. Modified CAPM\n"
   ]
  },
  {
   "cell_type": "code",
   "execution_count": 1,
   "id": "a66e8756",
   "metadata": {},
   "outputs": [],
   "source": [
    "#Import packages\n",
    "import yfinance as yf\n",
    "import numpy as np\n",
    "import pandas as pd\n",
    "from scipy import stats\n",
    "import statsmodels.api as sm\n",
    "\n",
    "import matplotlib.pyplot as plt\n",
    "%matplotlib inline"
   ]
  },
  {
   "cell_type": "code",
   "execution_count": 2,
   "id": "73e9b561",
   "metadata": {},
   "outputs": [],
   "source": [
    "#import sys\n",
    "#!{sys.executable} -m pip install openpyxl"
   ]
  },
  {
   "cell_type": "markdown",
   "id": "18438427",
   "metadata": {},
   "source": [
    "E(Ri)=rf+βi×[E(RM)−rf]+CR"
   ]
  },
  {
   "cell_type": "code",
   "execution_count": 3,
   "id": "0484a487",
   "metadata": {},
   "outputs": [
    {
     "data": {
      "text/html": [
       "<div>\n",
       "<style scoped>\n",
       "    .dataframe tbody tr th:only-of-type {\n",
       "        vertical-align: middle;\n",
       "    }\n",
       "\n",
       "    .dataframe tbody tr th {\n",
       "        vertical-align: top;\n",
       "    }\n",
       "\n",
       "    .dataframe thead th {\n",
       "        text-align: right;\n",
       "    }\n",
       "</style>\n",
       "<table border=\"1\" class=\"dataframe\">\n",
       "  <thead>\n",
       "    <tr style=\"text-align: right;\">\n",
       "      <th></th>\n",
       "      <th>Mkt-RF</th>\n",
       "      <th>SMB</th>\n",
       "      <th>HML</th>\n",
       "      <th>RF</th>\n",
       "    </tr>\n",
       "  </thead>\n",
       "  <tbody>\n",
       "    <tr>\n",
       "      <th>1927-01-01</th>\n",
       "      <td>29.47</td>\n",
       "      <td>-2.83</td>\n",
       "      <td>-3.40</td>\n",
       "      <td>3.12</td>\n",
       "    </tr>\n",
       "    <tr>\n",
       "      <th>1928-01-01</th>\n",
       "      <td>35.39</td>\n",
       "      <td>4.51</td>\n",
       "      <td>-6.17</td>\n",
       "      <td>3.56</td>\n",
       "    </tr>\n",
       "    <tr>\n",
       "      <th>1929-01-01</th>\n",
       "      <td>-19.54</td>\n",
       "      <td>-30.69</td>\n",
       "      <td>11.65</td>\n",
       "      <td>4.75</td>\n",
       "    </tr>\n",
       "    <tr>\n",
       "      <th>1930-01-01</th>\n",
       "      <td>-31.23</td>\n",
       "      <td>-5.34</td>\n",
       "      <td>-11.76</td>\n",
       "      <td>2.41</td>\n",
       "    </tr>\n",
       "    <tr>\n",
       "      <th>1931-01-01</th>\n",
       "      <td>-45.11</td>\n",
       "      <td>3.64</td>\n",
       "      <td>-14.56</td>\n",
       "      <td>1.07</td>\n",
       "    </tr>\n",
       "  </tbody>\n",
       "</table>\n",
       "</div>"
      ],
      "text/plain": [
       "            Mkt-RF    SMB    HML    RF\n",
       "1927-01-01   29.47  -2.83  -3.40  3.12\n",
       "1928-01-01   35.39   4.51  -6.17  3.56\n",
       "1929-01-01  -19.54 -30.69  11.65  4.75\n",
       "1930-01-01  -31.23  -5.34 -11.76  2.41\n",
       "1931-01-01  -45.11   3.64 -14.56  1.07"
      ]
     },
     "execution_count": 3,
     "metadata": {},
     "output_type": "execute_result"
    }
   ],
   "source": [
    "#Import RF from Fama French database\n",
    "FF=pd.read_csv('F-F_Research_Data_Factors.CSV', header=1148,index_col=0).dropna()\n",
    "FF.index = pd.to_datetime(FF.index)#,format='%Y')\n",
    "FF.head()"
   ]
  },
  {
   "cell_type": "code",
   "execution_count": 4,
   "id": "d1a817e2",
   "metadata": {},
   "outputs": [
    {
     "data": {
      "text/html": [
       "<div>\n",
       "<style scoped>\n",
       "    .dataframe tbody tr th:only-of-type {\n",
       "        vertical-align: middle;\n",
       "    }\n",
       "\n",
       "    .dataframe tbody tr th {\n",
       "        vertical-align: top;\n",
       "    }\n",
       "\n",
       "    .dataframe thead th {\n",
       "        text-align: right;\n",
       "    }\n",
       "</style>\n",
       "<table border=\"1\" class=\"dataframe\">\n",
       "  <thead>\n",
       "    <tr style=\"text-align: right;\">\n",
       "      <th></th>\n",
       "      <th>GDP (in billions)</th>\n",
       "      <th>Moody's rating</th>\n",
       "      <th>Adj. Default Spread</th>\n",
       "      <th>Equity Risk Premium</th>\n",
       "      <th>Country Risk Premium</th>\n",
       "      <th>Corporate Tax Rate</th>\n",
       "      <th>Region</th>\n",
       "      <th>GDP Weight</th>\n",
       "      <th>Weight*Default Spread</th>\n",
       "      <th>Weight*ERP</th>\n",
       "      <th>Weight*CRP</th>\n",
       "      <th>Weight * Tax Rate</th>\n",
       "    </tr>\n",
       "    <tr>\n",
       "      <th>Country</th>\n",
       "      <th></th>\n",
       "      <th></th>\n",
       "      <th></th>\n",
       "      <th></th>\n",
       "      <th></th>\n",
       "      <th></th>\n",
       "      <th></th>\n",
       "      <th></th>\n",
       "      <th></th>\n",
       "      <th></th>\n",
       "      <th></th>\n",
       "      <th></th>\n",
       "    </tr>\n",
       "  </thead>\n",
       "  <tbody>\n",
       "    <tr>\n",
       "      <th>Angola</th>\n",
       "      <td>62.307</td>\n",
       "      <td>B3</td>\n",
       "      <td>0.055345</td>\n",
       "      <td>0.106725</td>\n",
       "      <td>0.064325</td>\n",
       "      <td>0.25</td>\n",
       "      <td>Africa</td>\n",
       "      <td>0.030376</td>\n",
       "      <td>0.001681</td>\n",
       "      <td>0.003242</td>\n",
       "      <td>0.001954</td>\n",
       "      <td>0.007594</td>\n",
       "    </tr>\n",
       "    <tr>\n",
       "      <th>Benin</th>\n",
       "      <td>15.652</td>\n",
       "      <td>B1</td>\n",
       "      <td>0.038304</td>\n",
       "      <td>0.086919</td>\n",
       "      <td>0.044519</td>\n",
       "      <td>0.3</td>\n",
       "      <td>Africa</td>\n",
       "      <td>0.007631</td>\n",
       "      <td>0.000292</td>\n",
       "      <td>0.000663</td>\n",
       "      <td>0.000340</td>\n",
       "      <td>0.002289</td>\n",
       "    </tr>\n",
       "    <tr>\n",
       "      <th>Botswana</th>\n",
       "      <td>15.782</td>\n",
       "      <td>A3</td>\n",
       "      <td>0.010209</td>\n",
       "      <td>0.054266</td>\n",
       "      <td>0.011866</td>\n",
       "      <td>0.22</td>\n",
       "      <td>Africa</td>\n",
       "      <td>0.007694</td>\n",
       "      <td>0.000079</td>\n",
       "      <td>0.000418</td>\n",
       "      <td>0.000091</td>\n",
       "      <td>0.001693</td>\n",
       "    </tr>\n",
       "    <tr>\n",
       "      <th>Burkina Faso</th>\n",
       "      <td>17.369</td>\n",
       "      <td>B2</td>\n",
       "      <td>0.046824</td>\n",
       "      <td>0.096822</td>\n",
       "      <td>0.054422</td>\n",
       "      <td>0.28</td>\n",
       "      <td>Africa</td>\n",
       "      <td>0.008468</td>\n",
       "      <td>0.000397</td>\n",
       "      <td>0.00082</td>\n",
       "      <td>0.000461</td>\n",
       "      <td>0.002371</td>\n",
       "    </tr>\n",
       "    <tr>\n",
       "      <th>Cameroon</th>\n",
       "      <td>39.802</td>\n",
       "      <td>B2</td>\n",
       "      <td>0.046824</td>\n",
       "      <td>0.096822</td>\n",
       "      <td>0.054422</td>\n",
       "      <td>0.33</td>\n",
       "      <td>Africa</td>\n",
       "      <td>0.019405</td>\n",
       "      <td>0.000909</td>\n",
       "      <td>0.001879</td>\n",
       "      <td>0.001056</td>\n",
       "      <td>0.006404</td>\n",
       "    </tr>\n",
       "  </tbody>\n",
       "</table>\n",
       "</div>"
      ],
      "text/plain": [
       "             GDP (in billions) Moody's rating Adj. Default Spread  \\\n",
       "Country                                                             \n",
       "Angola                  62.307             B3            0.055345   \n",
       "Benin                   15.652             B1            0.038304   \n",
       "Botswana                15.782             A3            0.010209   \n",
       "Burkina Faso            17.369             B2            0.046824   \n",
       "Cameroon                39.802             B2            0.046824   \n",
       "\n",
       "             Equity Risk Premium Country Risk Premium Corporate Tax Rate  \\\n",
       "Country                                                                    \n",
       "Angola                  0.106725             0.064325               0.25   \n",
       "Benin                   0.086919             0.044519                0.3   \n",
       "Botswana                0.054266             0.011866               0.22   \n",
       "Burkina Faso            0.096822             0.054422               0.28   \n",
       "Cameroon                0.096822             0.054422               0.33   \n",
       "\n",
       "              Region GDP Weight Weight*Default Spread Weight*ERP  Weight*CRP  \\\n",
       "Country                                                                        \n",
       "Angola        Africa   0.030376              0.001681   0.003242    0.001954   \n",
       "Benin         Africa   0.007631              0.000292   0.000663    0.000340   \n",
       "Botswana      Africa   0.007694              0.000079   0.000418    0.000091   \n",
       "Burkina Faso  Africa   0.008468              0.000397    0.00082    0.000461   \n",
       "Cameroon      Africa   0.019405              0.000909   0.001879    0.001056   \n",
       "\n",
       "              Weight * Tax Rate  \n",
       "Country                          \n",
       "Angola                 0.007594  \n",
       "Benin                  0.002289  \n",
       "Botswana               0.001693  \n",
       "Burkina Faso           0.002371  \n",
       "Cameroon               0.006404  "
      ]
     },
     "execution_count": 4,
     "metadata": {},
     "output_type": "execute_result"
    }
   ],
   "source": [
    "#Import Damodaran's database\n",
    "Damodaran=pd.ExcelFile('ctryprem.xlsx')\n",
    "RWA_tab= pd.read_excel(Damodaran, 'Regional Weighted Averages',header=0,index_col=0)\n",
    "RWA_tab.head()"
   ]
  },
  {
   "cell_type": "code",
   "execution_count": 5,
   "id": "c44db4cf",
   "metadata": {},
   "outputs": [
    {
     "name": "stdout",
     "output_type": "stream",
     "text": [
      "Please input the year (1927-2020) for risk free interest rate & excess market return then press Enter: 2020\n",
      "In 2020, the Risk-free interest is 0.44%, and the Excess market return is 23.67%\n"
     ]
    }
   ],
   "source": [
    "# Get the risk free return and excess market return\n",
    "year=input('Please input the year (1927-2020) for risk free interest rate & excess market return then press Enter: ')\n",
    "Rf=FF.loc[year].RF\n",
    "Excess_Rm=FF.loc[year]['Mkt-RF']\n",
    "print('In {}, the Risk-free interest is {}%, and the Excess market return is {}%'.format(year,Rf.values[0],Excess_Rm.values[0]))"
   ]
  },
  {
   "cell_type": "code",
   "execution_count": 6,
   "id": "9908057a",
   "metadata": {},
   "outputs": [
    {
     "name": "stdout",
     "output_type": "stream",
     "text": [
      "Please input the reference stock for beta calculation then press Enter: AAPL\n",
      "The current beta of AAPL is 1.202736\n",
      "[*********************100%***********************]  1 of 1 completed\n",
      "[*********************100%***********************]  1 of 1 completed\n",
      "The beta in year 2020 of AAPL is 0.2524801893243005\n"
     ]
    }
   ],
   "source": [
    "# Get stock beta\n",
    "def beta(stock):\n",
    "    return yf.Ticker(stock).info['beta']\n",
    "def beta1Y(stock,year=year):\n",
    "    asset=yf.download(stock, \n",
    "                      start='{}-01-01'.format(year), \n",
    "                      end='{}-06-12'.format(year))['Adj Close']\n",
    "    market=yf.download('SPY', \n",
    "                      start='{}-01-01'.format(year), \n",
    "                      end='{}-06-12'.format(year))['Adj Close']\n",
    "    ols = sm.OLS(asset,market-Rf[0]).fit()\n",
    "\n",
    "    return ols.params[0]\n",
    "    \n",
    "\n",
    "ref_ticker=input('Please input the reference stock for beta calculation then press Enter: ')\n",
    "beta_i=beta(ref_ticker)\n",
    "print('The current beta of {} is {}'.format(ref_ticker,beta_i))\n",
    "beta_y=beta1Y(ref_ticker)\n",
    "print('The beta in year {} of {} is {}'.format(year,ref_ticker,beta_y))"
   ]
  },
  {
   "cell_type": "code",
   "execution_count": 8,
   "id": "673b608e",
   "metadata": {},
   "outputs": [
    {
     "name": "stdout",
     "output_type": "stream",
     "text": [
      "Please input country of the interested stock then press Enter: United States\n",
      "The country risk premium of United States is 0\n"
     ]
    }
   ],
   "source": [
    "# Get Country Risk\n",
    "country=input('Please input country of the interested stock then press Enter: ')\n",
    "CR=RWA_tab.loc[country,'Country Risk Premium']\n",
    "print('The country risk premium of {} is {}'.format(country,CR))"
   ]
  },
  {
   "cell_type": "code",
   "execution_count": 9,
   "id": "411e4c0d",
   "metadata": {},
   "outputs": [
    {
     "name": "stdout",
     "output_type": "stream",
     "text": [
      "The modified CAPM expected rate of return is 6.416206081306194%\n"
     ]
    }
   ],
   "source": [
    "#Calculate modified CAPM\n",
    "Mod_R=Rf+beta_y*Excess_Rm+CR*100\n",
    "print('The modified CAPM expected rate of return is {}%'.format(Mod_R.values[0]))"
   ]
  },
  {
   "cell_type": "markdown",
   "id": "9974f694",
   "metadata": {},
   "source": [
    "## Modified International CAPM"
   ]
  },
  {
   "cell_type": "code",
   "execution_count": 11,
   "id": "d0475102",
   "metadata": {},
   "outputs": [
    {
     "name": "stdout",
     "output_type": "stream",
     "text": [
      "Please input country of interest then press Enter to proceed or Q to end: Indonesia\n",
      "Please input country of interest then press Enter to proceed or Q to end: Chile\n",
      "Please input country of interest then press Enter to proceed or Q to end: Q\n"
     ]
    }
   ],
   "source": [
    "#Get beta_mM and beta_nM\n",
    "beta_iM=[]\n",
    "countries=[]\n",
    "while True:\n",
    "    country_name=input('Please input country of interest then press Enter to proceed or Q to end: ')\n",
    "    countries.append(country_name)\n",
    "    if countries[-1] !='Q':\n",
    "        beta_iM.append(1+RWA_tab.loc[countries[-1],'Equity Risk Premium'])\n",
    "    else:\n",
    "        break\n"
   ]
  },
  {
   "cell_type": "code",
   "execution_count": 12,
   "id": "70cb1f62",
   "metadata": {},
   "outputs": [
    {
     "data": {
      "text/plain": [
       "[1.0612246574388315, 1.04935887810535]"
      ]
     },
     "execution_count": 12,
     "metadata": {},
     "output_type": "execute_result"
    }
   ],
   "source": [
    "beta_iM"
   ]
  },
  {
   "cell_type": "code",
   "execution_count": 14,
   "id": "3ebbc7dd",
   "metadata": {},
   "outputs": [
    {
     "name": "stdout",
     "output_type": "stream",
     "text": [
      "Please input sector of interest then press Enter: XLF\n",
      "The beta of XLF is 1.25\n"
     ]
    }
   ],
   "source": [
    "#Get beta_tM\n",
    "def beta_sect(SPDR_sectorETF):\n",
    "    return yf.Ticker(SPDR_sectorETF).info['beta3Year']\n",
    "\n",
    "sector=input('Please input sector of interest then press Enter: ')\n",
    "beta_tM=beta_sect(sector)\n",
    "print('The beta of {} is {}'.format(sector,beta_tM))\n"
   ]
  },
  {
   "cell_type": "code",
   "execution_count": 15,
   "id": "857b250d",
   "metadata": {},
   "outputs": [],
   "source": [
    "#Calculate beta_tnM and beta_tmM\n",
    "beta_tiM=[beta_tM*element for element in beta_iM]"
   ]
  },
  {
   "cell_type": "code",
   "execution_count": 16,
   "id": "8c9684e6",
   "metadata": {},
   "outputs": [
    {
     "data": {
      "text/plain": [
       "array([0.63115471, 0.36884529])"
      ]
     },
     "execution_count": 16,
     "metadata": {},
     "output_type": "execute_result"
    }
   ],
   "source": [
    "#What is the alpha factorsssss? I'll will just assume it is a dirichlet random variables\n",
    "\n",
    "alphas=np.random.dirichlet(np.ones(len(beta_tiM)))\n",
    "alphas"
   ]
  },
  {
   "cell_type": "code",
   "execution_count": 17,
   "id": "8750a899",
   "metadata": {},
   "outputs": [
    {
     "data": {
      "text/plain": [
       "1.3210600258291363"
      ]
     },
     "execution_count": 17,
     "metadata": {},
     "output_type": "execute_result"
    }
   ],
   "source": [
    "#Calculate beta_p\n",
    "beta_p=alphas@np.array(beta_tiM)\n",
    "beta_p"
   ]
  },
  {
   "cell_type": "code",
   "execution_count": 18,
   "id": "b9b75b73",
   "metadata": {},
   "outputs": [
    {
     "name": "stdout",
     "output_type": "stream",
     "text": [
      "The modified international CAPM expected rate of return is 31.70949081137566%\n"
     ]
    }
   ],
   "source": [
    "#Calculate modified international CAMP\n",
    "Int_R=Rf+beta_p*Excess_Rm\n",
    "print('The modified international CAPM expected rate of return is {}%'.format(Int_R.values[0]))"
   ]
  },
  {
   "cell_type": "code",
   "execution_count": null,
   "id": "549f715a",
   "metadata": {},
   "outputs": [],
   "source": []
  },
  {
   "cell_type": "code",
   "execution_count": null,
   "id": "c0295203",
   "metadata": {},
   "outputs": [],
   "source": []
  }
 ],
 "metadata": {
  "kernelspec": {
   "display_name": "Python 3",
   "language": "python",
   "name": "python3"
  },
  "language_info": {
   "codemirror_mode": {
    "name": "ipython",
    "version": 3
   },
   "file_extension": ".py",
   "mimetype": "text/x-python",
   "name": "python",
   "nbconvert_exporter": "python",
   "pygments_lexer": "ipython3",
   "version": "3.9.5"
  }
 },
 "nbformat": 4,
 "nbformat_minor": 5
}
